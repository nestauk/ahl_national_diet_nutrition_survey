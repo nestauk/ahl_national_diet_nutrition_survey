{
 "cells": [
  {
   "cell_type": "code",
   "execution_count": 19,
   "id": "d6e9e38e",
   "metadata": {},
   "outputs": [],
   "source": [
    "library(tidyverse)\n",
    "library(survey)"
   ]
  },
  {
   "cell_type": "code",
   "execution_count": 3,
   "id": "9648856f",
   "metadata": {},
   "outputs": [],
   "source": [
    "setwd(\"C:\\\\Users\\\\Elena.Mariani\\\\Documents\\\\Data\\\\National Diet Nutrition Survey\\\\UKDA-6533-tab\\\\tab\")"
   ]
  },
  {
   "cell_type": "markdown",
   "id": "d29995b4",
   "metadata": {},
   "source": [
    "*The aim of this activity is to ensure that we quality assure our understanding of the use of NDNS data but ensuring we can replicate published statistics. We will replicate parts of Tables 2.1, 3.2, 6.1 and 6.2. The tables are available to download on the [gov.uk website](https://assets.publishing.service.gov.uk/government/uploads/system/uploads/attachment_data/file/943623/NDNS_from_years_1_to_9_data_tables__1_.zip)*"
   ]
  },
  {
   "cell_type": "markdown",
   "id": "5810daf5",
   "metadata": {},
   "source": [
    "# Table 2.1: Total energy intake (kcal/day) and food energy intake (kcal/day) by  age and sex for waves 9-11"
   ]
  },
  {
   "cell_type": "markdown",
   "id": "25ee38a1",
   "metadata": {},
   "source": [
    "Person level diary data"
   ]
  },
  {
   "cell_type": "code",
   "execution_count": 11,
   "id": "d5e783b0",
   "metadata": {
    "scrolled": true
   },
   "outputs": [
    {
     "data": {
      "text/html": [
       "<table class=\"dataframe\">\n",
       "<caption>A data.frame: 6 × 379</caption>\n",
       "<thead>\n",
       "\t<tr><th></th><th scope=col>seriali</th><th scope=col>SurveyYear</th><th scope=col>NDays</th><th scope=col>AgeR</th><th scope=col>Sex</th><th scope=col>Country</th><th scope=col>TotalEMJ</th><th scope=col>FoodEMJ</th><th scope=col>EnergykJ</th><th scope=col>FoodEkJ</th><th scope=col>...</th><th scope=col>FOLICACID_CAPI</th><th scope=col>IRONONLYORWITHVITAMINC_CAPI</th><th scope=col>VITC_CAPI</th><th scope=col>OTHERNUTRIENTSUPPLEMENTS_CAPI</th><th scope=col>VITAMINSTWOORMOREINCLMULTIVITSNOMINERALS_CAPI</th><th scope=col>VITAMINSANDMINERALSINCLMULTIVITSMINERALS_CAPI</th><th scope=col>NONNUTRIENTSUPPLEMENTSINCLHERBAL_CAPI</th><th scope=col>SINGLEVITAMINSMINERALS_CAPI</th><th scope=col>MULTIVITAMINANDORMINERALSWITHOMEGA3_CAPI</th><th scope=col>SuppTaker_CAPI</th></tr>\n",
       "\t<tr><th></th><th scope=col>&lt;int&gt;</th><th scope=col>&lt;int&gt;</th><th scope=col>&lt;int&gt;</th><th scope=col>&lt;int&gt;</th><th scope=col>&lt;int&gt;</th><th scope=col>&lt;chr&gt;</th><th scope=col>&lt;dbl&gt;</th><th scope=col>&lt;dbl&gt;</th><th scope=col>&lt;dbl&gt;</th><th scope=col>&lt;dbl&gt;</th><th scope=col>...</th><th scope=col>&lt;int&gt;</th><th scope=col>&lt;int&gt;</th><th scope=col>&lt;int&gt;</th><th scope=col>&lt;int&gt;</th><th scope=col>&lt;int&gt;</th><th scope=col>&lt;int&gt;</th><th scope=col>&lt;int&gt;</th><th scope=col>&lt;int&gt;</th><th scope=col>&lt;int&gt;</th><th scope=col>&lt;int&gt;</th></tr>\n",
       "</thead>\n",
       "<tbody>\n",
       "\t<tr><th scope=row>1</th><td>100211281</td><td>10</td><td>4</td><td>37</td><td>2</td><td>England</td><td>4.486222</td><td>4.486222</td><td>4486.222</td><td>4486.222</td><td>...</td><td>0</td><td>0</td><td>0</td><td>0</td><td>0</td><td>0</td><td>0</td><td>0</td><td>0</td><td>0</td></tr>\n",
       "\t<tr><th scope=row>2</th><td>100211282</td><td>10</td><td>4</td><td>14</td><td>1</td><td>England</td><td>3.345153</td><td>3.345153</td><td>3345.153</td><td>3345.153</td><td>...</td><td>0</td><td>0</td><td>0</td><td>0</td><td>0</td><td>0</td><td>0</td><td>0</td><td>0</td><td>0</td></tr>\n",
       "\t<tr><th scope=row>3</th><td>100211131</td><td>10</td><td>4</td><td>45</td><td>2</td><td>England</td><td>6.092681</td><td>6.092681</td><td>6092.681</td><td>6092.681</td><td>...</td><td>0</td><td>0</td><td>0</td><td>0</td><td>0</td><td>0</td><td>0</td><td>0</td><td>0</td><td>0</td></tr>\n",
       "\t<tr><th scope=row>4</th><td>100211133</td><td>10</td><td>4</td><td>11</td><td>1</td><td>England</td><td>7.794247</td><td>7.794247</td><td>7794.247</td><td>7794.247</td><td>...</td><td>0</td><td>0</td><td>0</td><td>0</td><td>0</td><td>0</td><td>0</td><td>0</td><td>0</td><td>0</td></tr>\n",
       "\t<tr><th scope=row>5</th><td>100211021</td><td>10</td><td>4</td><td>50</td><td>2</td><td>England</td><td>6.290486</td><td>5.899001</td><td>6290.486</td><td>5899.001</td><td>...</td><td>0</td><td>0</td><td>0</td><td>0</td><td>0</td><td>0</td><td>0</td><td>0</td><td>0</td><td>0</td></tr>\n",
       "\t<tr><th scope=row>6</th><td>100211024</td><td>10</td><td>4</td><td>10</td><td>2</td><td>England</td><td>5.383485</td><td>5.383485</td><td>5383.485</td><td>5383.485</td><td>...</td><td>0</td><td>0</td><td>0</td><td>0</td><td>0</td><td>0</td><td>0</td><td>0</td><td>0</td><td>0</td></tr>\n",
       "</tbody>\n",
       "</table>\n"
      ],
      "text/latex": [
       "A data.frame: 6 × 379\n",
       "\\begin{tabular}{r|lllllllllllllllllllll}\n",
       "  & seriali & SurveyYear & NDays & AgeR & Sex & Country & TotalEMJ & FoodEMJ & EnergykJ & FoodEkJ & ... & FOLICACID\\_CAPI & IRONONLYORWITHVITAMINC\\_CAPI & VITC\\_CAPI & OTHERNUTRIENTSUPPLEMENTS\\_CAPI & VITAMINSTWOORMOREINCLMULTIVITSNOMINERALS\\_CAPI & VITAMINSANDMINERALSINCLMULTIVITSMINERALS\\_CAPI & NONNUTRIENTSUPPLEMENTSINCLHERBAL\\_CAPI & SINGLEVITAMINSMINERALS\\_CAPI & MULTIVITAMINANDORMINERALSWITHOMEGA3\\_CAPI & SuppTaker\\_CAPI\\\\\n",
       "  & <int> & <int> & <int> & <int> & <int> & <chr> & <dbl> & <dbl> & <dbl> & <dbl> & ... & <int> & <int> & <int> & <int> & <int> & <int> & <int> & <int> & <int> & <int>\\\\\n",
       "\\hline\n",
       "\t1 & 100211281 & 10 & 4 & 37 & 2 & England & 4.486222 & 4.486222 & 4486.222 & 4486.222 & ... & 0 & 0 & 0 & 0 & 0 & 0 & 0 & 0 & 0 & 0\\\\\n",
       "\t2 & 100211282 & 10 & 4 & 14 & 1 & England & 3.345153 & 3.345153 & 3345.153 & 3345.153 & ... & 0 & 0 & 0 & 0 & 0 & 0 & 0 & 0 & 0 & 0\\\\\n",
       "\t3 & 100211131 & 10 & 4 & 45 & 2 & England & 6.092681 & 6.092681 & 6092.681 & 6092.681 & ... & 0 & 0 & 0 & 0 & 0 & 0 & 0 & 0 & 0 & 0\\\\\n",
       "\t4 & 100211133 & 10 & 4 & 11 & 1 & England & 7.794247 & 7.794247 & 7794.247 & 7794.247 & ... & 0 & 0 & 0 & 0 & 0 & 0 & 0 & 0 & 0 & 0\\\\\n",
       "\t5 & 100211021 & 10 & 4 & 50 & 2 & England & 6.290486 & 5.899001 & 6290.486 & 5899.001 & ... & 0 & 0 & 0 & 0 & 0 & 0 & 0 & 0 & 0 & 0\\\\\n",
       "\t6 & 100211024 & 10 & 4 & 10 & 2 & England & 5.383485 & 5.383485 & 5383.485 & 5383.485 & ... & 0 & 0 & 0 & 0 & 0 & 0 & 0 & 0 & 0 & 0\\\\\n",
       "\\end{tabular}\n"
      ],
      "text/markdown": [
       "\n",
       "A data.frame: 6 × 379\n",
       "\n",
       "| <!--/--> | seriali &lt;int&gt; | SurveyYear &lt;int&gt; | NDays &lt;int&gt; | AgeR &lt;int&gt; | Sex &lt;int&gt; | Country &lt;chr&gt; | TotalEMJ &lt;dbl&gt; | FoodEMJ &lt;dbl&gt; | EnergykJ &lt;dbl&gt; | FoodEkJ &lt;dbl&gt; | ... ... | FOLICACID_CAPI &lt;int&gt; | IRONONLYORWITHVITAMINC_CAPI &lt;int&gt; | VITC_CAPI &lt;int&gt; | OTHERNUTRIENTSUPPLEMENTS_CAPI &lt;int&gt; | VITAMINSTWOORMOREINCLMULTIVITSNOMINERALS_CAPI &lt;int&gt; | VITAMINSANDMINERALSINCLMULTIVITSMINERALS_CAPI &lt;int&gt; | NONNUTRIENTSUPPLEMENTSINCLHERBAL_CAPI &lt;int&gt; | SINGLEVITAMINSMINERALS_CAPI &lt;int&gt; | MULTIVITAMINANDORMINERALSWITHOMEGA3_CAPI &lt;int&gt; | SuppTaker_CAPI &lt;int&gt; |\n",
       "|---|---|---|---|---|---|---|---|---|---|---|---|---|---|---|---|---|---|---|---|---|---|\n",
       "| 1 | 100211281 | 10 | 4 | 37 | 2 | England | 4.486222 | 4.486222 | 4486.222 | 4486.222 | ... | 0 | 0 | 0 | 0 | 0 | 0 | 0 | 0 | 0 | 0 |\n",
       "| 2 | 100211282 | 10 | 4 | 14 | 1 | England | 3.345153 | 3.345153 | 3345.153 | 3345.153 | ... | 0 | 0 | 0 | 0 | 0 | 0 | 0 | 0 | 0 | 0 |\n",
       "| 3 | 100211131 | 10 | 4 | 45 | 2 | England | 6.092681 | 6.092681 | 6092.681 | 6092.681 | ... | 0 | 0 | 0 | 0 | 0 | 0 | 0 | 0 | 0 | 0 |\n",
       "| 4 | 100211133 | 10 | 4 | 11 | 1 | England | 7.794247 | 7.794247 | 7794.247 | 7794.247 | ... | 0 | 0 | 0 | 0 | 0 | 0 | 0 | 0 | 0 | 0 |\n",
       "| 5 | 100211021 | 10 | 4 | 50 | 2 | England | 6.290486 | 5.899001 | 6290.486 | 5899.001 | ... | 0 | 0 | 0 | 0 | 0 | 0 | 0 | 0 | 0 | 0 |\n",
       "| 6 | 100211024 | 10 | 4 | 10 | 2 | England | 5.383485 | 5.383485 | 5383.485 | 5383.485 | ... | 0 | 0 | 0 | 0 | 0 | 0 | 0 | 0 | 0 | 0 |\n",
       "\n"
      ],
      "text/plain": [
       "  seriali   SurveyYear NDays AgeR Sex Country TotalEMJ FoodEMJ  EnergykJ\n",
       "1 100211281 10         4     37   2   England 4.486222 4.486222 4486.222\n",
       "2 100211282 10         4     14   1   England 3.345153 3.345153 3345.153\n",
       "3 100211131 10         4     45   2   England 6.092681 6.092681 6092.681\n",
       "4 100211133 10         4     11   1   England 7.794247 7.794247 7794.247\n",
       "5 100211021 10         4     50   2   England 6.290486 5.899001 6290.486\n",
       "6 100211024 10         4     10   2   England 5.383485 5.383485 5383.485\n",
       "  FoodEkJ  ... FOLICACID_CAPI IRONONLYORWITHVITAMINC_CAPI VITC_CAPI\n",
       "1 4486.222 ... 0              0                           0        \n",
       "2 3345.153 ... 0              0                           0        \n",
       "3 6092.681 ... 0              0                           0        \n",
       "4 7794.247 ... 0              0                           0        \n",
       "5 5899.001 ... 0              0                           0        \n",
       "6 5383.485 ... 0              0                           0        \n",
       "  OTHERNUTRIENTSUPPLEMENTS_CAPI VITAMINSTWOORMOREINCLMULTIVITSNOMINERALS_CAPI\n",
       "1 0                             0                                            \n",
       "2 0                             0                                            \n",
       "3 0                             0                                            \n",
       "4 0                             0                                            \n",
       "5 0                             0                                            \n",
       "6 0                             0                                            \n",
       "  VITAMINSANDMINERALSINCLMULTIVITSMINERALS_CAPI\n",
       "1 0                                            \n",
       "2 0                                            \n",
       "3 0                                            \n",
       "4 0                                            \n",
       "5 0                                            \n",
       "6 0                                            \n",
       "  NONNUTRIENTSUPPLEMENTSINCLHERBAL_CAPI SINGLEVITAMINSMINERALS_CAPI\n",
       "1 0                                     0                          \n",
       "2 0                                     0                          \n",
       "3 0                                     0                          \n",
       "4 0                                     0                          \n",
       "5 0                                     0                          \n",
       "6 0                                     0                          \n",
       "  MULTIVITAMINANDORMINERALSWITHOMEGA3_CAPI SuppTaker_CAPI\n",
       "1 0                                        0             \n",
       "2 0                                        0             \n",
       "3 0                                        0             \n",
       "4 0                                        0             \n",
       "5 0                                        0             \n",
       "6 0                                        0             "
      ]
     },
     "metadata": {},
     "output_type": "display_data"
    }
   ],
   "source": [
    "pdd = read.table(\"ndns_rp_yr9-11a_personleveldietarydata_uk_20210831.tab\", sep = \"\\t\", header = T)\n",
    "head(pdd)"
   ]
  },
  {
   "cell_type": "markdown",
   "id": "2e941835",
   "metadata": {},
   "source": [
    "Individual data"
   ]
  },
  {
   "cell_type": "code",
   "execution_count": 10,
   "id": "15f5f2b4",
   "metadata": {
    "scrolled": true
   },
   "outputs": [
    {
     "data": {
      "text/html": [
       "<table class=\"dataframe\">\n",
       "<caption>A data.frame: 6 × 1291</caption>\n",
       "<thead>\n",
       "\t<tr><th></th><th scope=col>seriali</th><th scope=col>serialh</th><th scope=col>Area</th><th scope=col>region</th><th scope=col>GOR</th><th scope=col>Addnum</th><th scope=col>surveyyr</th><th scope=col>AdChild</th><th scope=col>Quarter</th><th scope=col>month</th><th scope=col>...</th><th scope=col>wti_Y911</th><th scope=col>wtb_Y911</th><th scope=col>wtn_Y911</th><th scope=col>wtr_Y911</th><th scope=col>wtsu_Y911</th><th scope=col>wti_Y9</th><th scope=col>wtb_Y9</th><th scope=col>wtn_Y9</th><th scope=col>wtr_Y9</th><th scope=col>wtsu_Y9</th></tr>\n",
       "\t<tr><th></th><th scope=col>&lt;int&gt;</th><th scope=col>&lt;int&gt;</th><th scope=col>&lt;int&gt;</th><th scope=col>&lt;int&gt;</th><th scope=col>&lt;int&gt;</th><th scope=col>&lt;int&gt;</th><th scope=col>&lt;int&gt;</th><th scope=col>&lt;int&gt;</th><th scope=col>&lt;int&gt;</th><th scope=col>&lt;int&gt;</th><th scope=col>...</th><th scope=col>&lt;dbl&gt;</th><th scope=col>&lt;dbl&gt;</th><th scope=col>&lt;dbl&gt;</th><th scope=col>&lt;dbl&gt;</th><th scope=col>&lt;dbl&gt;</th><th scope=col>&lt;dbl&gt;</th><th scope=col>&lt;dbl&gt;</th><th scope=col>&lt;dbl&gt;</th><th scope=col>&lt;dbl&gt;</th><th scope=col>&lt;dbl&gt;</th></tr>\n",
       "</thead>\n",
       "<tbody>\n",
       "\t<tr><th scope=row>1</th><td>100101011</td><td>10010101</td><td>100101</td><td>4</td><td>11</td><td> 1</td><td>10</td><td>1</td><td>4</td><td>3</td><td>...</td><td>1.8380267</td><td>1.5521456</td><td>1.7786253</td><td>1.343137</td><td>1.7773639</td><td>NA</td><td>NA</td><td>NA</td><td>NA</td><td>NA</td></tr>\n",
       "\t<tr><th scope=row>2</th><td>100101022</td><td>10010102</td><td>100101</td><td>4</td><td>11</td><td> 2</td><td>10</td><td>1</td><td>4</td><td>3</td><td>...</td><td>3.6760534</td><td>2.5689339</td><td>3.5373293</td><td>      NA</td><td>3.5547278</td><td>NA</td><td>NA</td><td>NA</td><td>NA</td><td>NA</td></tr>\n",
       "\t<tr><th scope=row>3</th><td>100101091</td><td>10010109</td><td>100101</td><td>4</td><td>11</td><td> 9</td><td>10</td><td>1</td><td>4</td><td>3</td><td>...</td><td>3.3434320</td><td>       NA</td><td>3.0121382</td><td>2.406434</td><td>3.1164039</td><td>NA</td><td>NA</td><td>NA</td><td>NA</td><td>NA</td></tr>\n",
       "\t<tr><th scope=row>4</th><td>100101102</td><td>10010110</td><td>100101</td><td>4</td><td>11</td><td>10</td><td>10</td><td>1</td><td>4</td><td>3</td><td>...</td><td>2.9440746</td><td>2.1377580</td><td>2.8524036</td><td>2.043536</td><td>2.7950861</td><td>NA</td><td>NA</td><td>NA</td><td>NA</td><td>NA</td></tr>\n",
       "\t<tr><th scope=row>5</th><td>100101154</td><td>10010115</td><td>100101</td><td>4</td><td>11</td><td>15</td><td>10</td><td>2</td><td>4</td><td>3</td><td>...</td><td>1.5349801</td><td>1.1662490</td><td>1.3174629</td><td>      NA</td><td>1.6418613</td><td>NA</td><td>NA</td><td>NA</td><td>NA</td><td>NA</td></tr>\n",
       "\t<tr><th scope=row>6</th><td>100101195</td><td>10010119</td><td>100101</td><td>4</td><td>11</td><td>19</td><td>10</td><td>2</td><td>4</td><td>3</td><td>...</td><td>0.7127176</td><td>0.7196654</td><td>0.6350292</td><td>      NA</td><td>0.6612657</td><td>NA</td><td>NA</td><td>NA</td><td>NA</td><td>NA</td></tr>\n",
       "</tbody>\n",
       "</table>\n"
      ],
      "text/latex": [
       "A data.frame: 6 × 1291\n",
       "\\begin{tabular}{r|lllllllllllllllllllll}\n",
       "  & seriali & serialh & Area & region & GOR & Addnum & surveyyr & AdChild & Quarter & month & ... & wti\\_Y911 & wtb\\_Y911 & wtn\\_Y911 & wtr\\_Y911 & wtsu\\_Y911 & wti\\_Y9 & wtb\\_Y9 & wtn\\_Y9 & wtr\\_Y9 & wtsu\\_Y9\\\\\n",
       "  & <int> & <int> & <int> & <int> & <int> & <int> & <int> & <int> & <int> & <int> & ... & <dbl> & <dbl> & <dbl> & <dbl> & <dbl> & <dbl> & <dbl> & <dbl> & <dbl> & <dbl>\\\\\n",
       "\\hline\n",
       "\t1 & 100101011 & 10010101 & 100101 & 4 & 11 &  1 & 10 & 1 & 4 & 3 & ... & 1.8380267 & 1.5521456 & 1.7786253 & 1.343137 & 1.7773639 & NA & NA & NA & NA & NA\\\\\n",
       "\t2 & 100101022 & 10010102 & 100101 & 4 & 11 &  2 & 10 & 1 & 4 & 3 & ... & 3.6760534 & 2.5689339 & 3.5373293 &       NA & 3.5547278 & NA & NA & NA & NA & NA\\\\\n",
       "\t3 & 100101091 & 10010109 & 100101 & 4 & 11 &  9 & 10 & 1 & 4 & 3 & ... & 3.3434320 &        NA & 3.0121382 & 2.406434 & 3.1164039 & NA & NA & NA & NA & NA\\\\\n",
       "\t4 & 100101102 & 10010110 & 100101 & 4 & 11 & 10 & 10 & 1 & 4 & 3 & ... & 2.9440746 & 2.1377580 & 2.8524036 & 2.043536 & 2.7950861 & NA & NA & NA & NA & NA\\\\\n",
       "\t5 & 100101154 & 10010115 & 100101 & 4 & 11 & 15 & 10 & 2 & 4 & 3 & ... & 1.5349801 & 1.1662490 & 1.3174629 &       NA & 1.6418613 & NA & NA & NA & NA & NA\\\\\n",
       "\t6 & 100101195 & 10010119 & 100101 & 4 & 11 & 19 & 10 & 2 & 4 & 3 & ... & 0.7127176 & 0.7196654 & 0.6350292 &       NA & 0.6612657 & NA & NA & NA & NA & NA\\\\\n",
       "\\end{tabular}\n"
      ],
      "text/markdown": [
       "\n",
       "A data.frame: 6 × 1291\n",
       "\n",
       "| <!--/--> | seriali &lt;int&gt; | serialh &lt;int&gt; | Area &lt;int&gt; | region &lt;int&gt; | GOR &lt;int&gt; | Addnum &lt;int&gt; | surveyyr &lt;int&gt; | AdChild &lt;int&gt; | Quarter &lt;int&gt; | month &lt;int&gt; | ... ... | wti_Y911 &lt;dbl&gt; | wtb_Y911 &lt;dbl&gt; | wtn_Y911 &lt;dbl&gt; | wtr_Y911 &lt;dbl&gt; | wtsu_Y911 &lt;dbl&gt; | wti_Y9 &lt;dbl&gt; | wtb_Y9 &lt;dbl&gt; | wtn_Y9 &lt;dbl&gt; | wtr_Y9 &lt;dbl&gt; | wtsu_Y9 &lt;dbl&gt; |\n",
       "|---|---|---|---|---|---|---|---|---|---|---|---|---|---|---|---|---|---|---|---|---|---|\n",
       "| 1 | 100101011 | 10010101 | 100101 | 4 | 11 |  1 | 10 | 1 | 4 | 3 | ... | 1.8380267 | 1.5521456 | 1.7786253 | 1.343137 | 1.7773639 | NA | NA | NA | NA | NA |\n",
       "| 2 | 100101022 | 10010102 | 100101 | 4 | 11 |  2 | 10 | 1 | 4 | 3 | ... | 3.6760534 | 2.5689339 | 3.5373293 |       NA | 3.5547278 | NA | NA | NA | NA | NA |\n",
       "| 3 | 100101091 | 10010109 | 100101 | 4 | 11 |  9 | 10 | 1 | 4 | 3 | ... | 3.3434320 |        NA | 3.0121382 | 2.406434 | 3.1164039 | NA | NA | NA | NA | NA |\n",
       "| 4 | 100101102 | 10010110 | 100101 | 4 | 11 | 10 | 10 | 1 | 4 | 3 | ... | 2.9440746 | 2.1377580 | 2.8524036 | 2.043536 | 2.7950861 | NA | NA | NA | NA | NA |\n",
       "| 5 | 100101154 | 10010115 | 100101 | 4 | 11 | 15 | 10 | 2 | 4 | 3 | ... | 1.5349801 | 1.1662490 | 1.3174629 |       NA | 1.6418613 | NA | NA | NA | NA | NA |\n",
       "| 6 | 100101195 | 10010119 | 100101 | 4 | 11 | 19 | 10 | 2 | 4 | 3 | ... | 0.7127176 | 0.7196654 | 0.6350292 |       NA | 0.6612657 | NA | NA | NA | NA | NA |\n",
       "\n"
      ],
      "text/plain": [
       "  seriali   serialh  Area   region GOR Addnum surveyyr AdChild Quarter month\n",
       "1 100101011 10010101 100101 4      11   1     10       1       4       3    \n",
       "2 100101022 10010102 100101 4      11   2     10       1       4       3    \n",
       "3 100101091 10010109 100101 4      11   9     10       1       4       3    \n",
       "4 100101102 10010110 100101 4      11  10     10       1       4       3    \n",
       "5 100101154 10010115 100101 4      11  15     10       2       4       3    \n",
       "6 100101195 10010119 100101 4      11  19     10       2       4       3    \n",
       "  ... wti_Y911  wtb_Y911  wtn_Y911  wtr_Y911 wtsu_Y911 wti_Y9 wtb_Y9 wtn_Y9\n",
       "1 ... 1.8380267 1.5521456 1.7786253 1.343137 1.7773639 NA     NA     NA    \n",
       "2 ... 3.6760534 2.5689339 3.5373293       NA 3.5547278 NA     NA     NA    \n",
       "3 ... 3.3434320        NA 3.0121382 2.406434 3.1164039 NA     NA     NA    \n",
       "4 ... 2.9440746 2.1377580 2.8524036 2.043536 2.7950861 NA     NA     NA    \n",
       "5 ... 1.5349801 1.1662490 1.3174629       NA 1.6418613 NA     NA     NA    \n",
       "6 ... 0.7127176 0.7196654 0.6350292       NA 0.6612657 NA     NA     NA    \n",
       "  wtr_Y9 wtsu_Y9\n",
       "1 NA     NA     \n",
       "2 NA     NA     \n",
       "3 NA     NA     \n",
       "4 NA     NA     \n",
       "5 NA     NA     \n",
       "6 NA     NA     "
      ]
     },
     "metadata": {},
     "output_type": "display_data"
    }
   ],
   "source": [
    "ind = read.table(\"ndns_rp_yr9-11a_indiv_20211020.tab\", sep = \"\\t\", header = T)\n",
    "head(ind)"
   ]
  },
  {
   "cell_type": "markdown",
   "id": "a38d6a2d",
   "metadata": {},
   "source": [
    "Select variables of interest and merge with individual file to obtain weights."
   ]
  },
  {
   "cell_type": "code",
   "execution_count": 20,
   "id": "0e479ea2",
   "metadata": {},
   "outputs": [],
   "source": [
    "pdd_ind <- merge(pdd[, c(\"seriali\", \"SurveyYear\", \"AgeR\", \"Sex\", \"Energykcal\")],\n",
    "                ind[, c(\"seriali\", \"surveyyr\", \"wti_Y911\", \"astrata1\", \"astrata2\", \"astrata3\", \"astrata4\", \"astrata5\")],\n",
    "                by.x = c(\"seriali\", \"SurveyYear\"),\n",
    "                by.y = c(\"seriali\", \"surveyyr\"))"
   ]
  },
  {
   "cell_type": "code",
   "execution_count": 21,
   "id": "15e54979",
   "metadata": {},
   "outputs": [
    {
     "data": {
      "text/html": [
       "<style>\n",
       ".list-inline {list-style: none; margin:0; padding: 0}\n",
       ".list-inline>li {display: inline-block}\n",
       ".list-inline>li:not(:last-child)::after {content: \"\\00b7\"; padding: 0 .5ex}\n",
       "</style>\n",
       "<ol class=list-inline><li>3558</li><li>11</li></ol>\n"
      ],
      "text/latex": [
       "\\begin{enumerate*}\n",
       "\\item 3558\n",
       "\\item 11\n",
       "\\end{enumerate*}\n"
      ],
      "text/markdown": [
       "1. 3558\n",
       "2. 11\n",
       "\n",
       "\n"
      ],
      "text/plain": [
       "[1] 3558   11"
      ]
     },
     "metadata": {},
     "output_type": "display_data"
    }
   ],
   "source": [
    "dim(pdd_ind)"
   ]
  },
  {
   "cell_type": "markdown",
   "id": "834ed3fc",
   "metadata": {},
   "source": [
    "Specify the survey design"
   ]
  },
  {
   "cell_type": "code",
   "execution_count": 23,
   "id": "b8b2ca36",
   "metadata": {},
   "outputs": [],
   "source": [
    "ndnsDesign <- svydesign(id = ~0,\n",
    "                        strata  = ~astrata1,\n",
    "                        weights = ~wti_Y911,\n",
    "                        data    = pdd_ind)"
   ]
  },
  {
   "cell_type": "markdown",
   "id": "32055db8",
   "metadata": {},
   "source": [
    "## Children 1.5 - 3 years"
   ]
  },
  {
   "cell_type": "code",
   "execution_count": 31,
   "id": "a0cd9c71",
   "metadata": {},
   "outputs": [],
   "source": [
    "ageChildren <- subset(ndnsDesign, AgeR > 0 & AgeR < 4)"
   ]
  },
  {
   "cell_type": "code",
   "execution_count": 32,
   "id": "6721b6e2",
   "metadata": {
    "scrolled": false
   },
   "outputs": [
    {
     "data": {
      "text/plain": [
       "           mean     SE\n",
       "Energykcal 1056 16.595"
      ]
     },
     "metadata": {},
     "output_type": "display_data"
    }
   ],
   "source": [
    "svymean(~Energykcal, ageChildren, na.rm = TRUE)"
   ]
  },
  {
   "cell_type": "code",
   "execution_count": 35,
   "id": "ce0757af",
   "metadata": {
    "scrolled": true
   },
   "outputs": [
    {
     "data": {
      "text/plain": [
       "$Energykcal\n",
       "       quantile   ci.2.5   ci.97.5       se\n",
       "0.025  621.3323      NaN  683.7435      NaN\n",
       "0.5   1040.9176 1015.905 1093.9567 19.74430\n",
       "0.975 1537.5780 1519.549 1671.2395 38.37208\n",
       "\n",
       "attr(,\"hasci\")\n",
       "[1] TRUE\n",
       "attr(,\"class\")\n",
       "[1] \"newsvyquantile\""
      ]
     },
     "metadata": {},
     "output_type": "display_data"
    }
   ],
   "source": [
    "svyquantile(~Energykcal, ageChildren, c(.025,.5,.975), ci=TRUE)"
   ]
  },
  {
   "cell_type": "markdown",
   "id": "7928c5a9",
   "metadata": {},
   "source": [
    "## Adults 19-64 Years"
   ]
  },
  {
   "cell_type": "code",
   "execution_count": 36,
   "id": "1c7bf44d",
   "metadata": {},
   "outputs": [],
   "source": [
    "ageAdult <- subset(ndnsDesign, AgeR > 18 & AgeR < 65)"
   ]
  },
  {
   "cell_type": "code",
   "execution_count": 37,
   "id": "a0a4a543",
   "metadata": {},
   "outputs": [
    {
     "data": {
      "text/plain": [
       "             mean     SE\n",
       "Energykcal 1828.2 19.207"
      ]
     },
     "metadata": {},
     "output_type": "display_data"
    }
   ],
   "source": [
    "svymean(~Energykcal, ageAdult, na.rm = TRUE)"
   ]
  },
  {
   "cell_type": "code",
   "execution_count": 38,
   "id": "fc2aa9e4",
   "metadata": {},
   "outputs": [
    {
     "data": {
      "text/plain": [
       "$Energykcal\n",
       "       quantile    ci.2.5   ci.97.5       se\n",
       "0.025  876.6278  800.5475  907.9056 27.35938\n",
       "0.5   1764.0605 1732.6416 1803.9366 18.16897\n",
       "0.975 3061.4611 2990.0078 3303.5826 79.91209\n",
       "\n",
       "attr(,\"hasci\")\n",
       "[1] TRUE\n",
       "attr(,\"class\")\n",
       "[1] \"newsvyquantile\""
      ]
     },
     "metadata": {},
     "output_type": "display_data"
    }
   ],
   "source": [
    "svyquantile(~Energykcal, ageAdult, c(.025,.5,.975), ci=TRUE)"
   ]
  }
 ],
 "metadata": {
  "kernelspec": {
   "display_name": "R",
   "language": "R",
   "name": "ir"
  },
  "language_info": {
   "codemirror_mode": "r",
   "file_extension": ".r",
   "mimetype": "text/x-r-source",
   "name": "R",
   "pygments_lexer": "r",
   "version": "4.1.2"
  }
 },
 "nbformat": 4,
 "nbformat_minor": 5
}
